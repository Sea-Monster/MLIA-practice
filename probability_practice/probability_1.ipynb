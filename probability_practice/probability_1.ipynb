{
 "cells": [
  {
   "cell_type": "code",
   "execution_count": 17,
   "metadata": {
    "collapsed": true
   },
   "outputs": [],
   "source": [
    "posting_list = [[' my', 'dog', 'has', 'flea', 'problems', 'help', 'please'],\n",
    "                    ['maybe', 'not', 'take', 'him', 'to', 'dog', 'park', 'stupid'],\n",
    "                    ['my', 'dalmation', 'is', 'so', 'cute', 'I', 'love', 'him'],\n",
    "                    ['stop', 'posting', 'stupid', 'worthless', 'garbage'],\n",
    "                    ['mr', 'licks', 'ate', 'my', 'steak', 'how', ' to', 'stop', 'him'],\n",
    "                    ['quit', 'buying', 'worthless', 'dog', 'food', 'stupid']]\n",
    "\n",
    "# 1代表侮辱性位子，0代表正常言论\n",
    "class_vector = [0, 1, 0, 1, 0, 1]"
   ]
  },
  {
   "cell_type": "code",
   "execution_count": null,
   "metadata": {},
   "outputs": [],
   "source": [
    "vocabulary_list = posting_list\n",
    "return_vector = [0]*len(vocabulary_list)\n",
    "return_vector"
   ]
  },
  {
   "cell_type": "code",
   "execution_count": 3,
   "metadata": {},
   "outputs": [
    {
     "data": {
      "text/plain": [
       "list"
      ]
     },
     "execution_count": 3,
     "metadata": {},
     "output_type": "execute_result"
    }
   ],
   "source": [
    "type(return_vector)"
   ]
  },
  {
   "cell_type": "code",
   "execution_count": 4,
   "metadata": {},
   "outputs": [
    {
     "data": {
      "text/plain": [
       "array([[ 0.,  0.,  0.,  0.,  0.,  0.]])"
      ]
     },
     "execution_count": 4,
     "metadata": {},
     "output_type": "execute_result"
    }
   ],
   "source": [
    "import numpy as np\n",
    "a = np.zeros((1,6))\n",
    "a"
   ]
  },
  {
   "cell_type": "code",
   "execution_count": 12,
   "metadata": {},
   "outputs": [],
   "source": [
    "def load_data_set():\n",
    "    \"\"\"\n",
    "    创建实验样本\n",
    "    :return:    第一个变量是进行词条切分后的文档集合，第二个变量是类别标签的集合\n",
    "    \"\"\"\n",
    "    posting_list = [[' my', 'dog', 'has', 'flea', 'problems', 'help', 'please'],\n",
    "                    ['maybe', 'not', 'take', 'him', 'to', 'dog', 'park', 'stupid'],\n",
    "                    ['my', 'dalmation', 'is', 'so', 'cute', 'I', 'love', 'him'],\n",
    "                    ['stop', 'posting', 'stupid', 'worthless', 'garbage'],\n",
    "                    ['mr', 'licks', 'ate', 'my', 'steak', 'how', ' to', 'stop', 'him'],\n",
    "                    ['quit', 'buying', 'worthless', 'dog', 'food', 'stupid']]\n",
    "\n",
    "    # 1代表侮辱性位子，0代表正常言论\n",
    "    class_vector = [0, 1, 0, 1, 0, 1]\n",
    "\n",
    "    return posting_list, class_vector\n",
    "\n",
    "\n",
    "def create_vocabulary_list(data_set):\n",
    "    \"\"\"\n",
    "    创建一个包含在所有文档中出现的不重复词的列表\n",
    "    :param data_set:\n",
    "    :return:\n",
    "    \"\"\"\n",
    "    # 创建一个空集\n",
    "    vocabulary_set = set([])\n",
    "    for document in data_set:\n",
    "        # 创建两个集合的并集\n",
    "        vocabulary_set = vocabulary_set | set(document)\n",
    "    return list(vocabulary_set)\n",
    "\n",
    "\n",
    "def set_of_words_2_vector(vocabulary_list, input_set):\n",
    "    \"\"\"\n",
    "    \n",
    "    :param vocabulary_list:     词汇的列表\n",
    "    :param input_set:           某个文档\n",
    "    :return:                    文档向量，向量的每一个元素为1或0，分别表示词汇表中的单词在输入文档中是否出现\n",
    "    \"\"\"\n",
    "    # 创建一个其中所含元素都为0的向量\n",
    "    return_vector = [0]*len(vocabulary_list)\n",
    "    for word in input_set:\n",
    "        if word in vocabulary_list:\n",
    "            return_vector[vocabulary_list.index(word)] = 1\n",
    "        else:\n",
    "            print('单词：%s 不在词汇表中！' %word)\n",
    "    return return_vector"
   ]
  },
  {
   "cell_type": "code",
   "execution_count": 13,
   "metadata": {},
   "outputs": [
    {
     "data": {
      "text/plain": [
       "['garbage',\n 'take',\n 'not',\n 'park',\n 'cute',\n 'I',\n 'how',\n 'please',\n 'food',\n 'help',\n 'him',\n 'quit',\n 'flea',\n 'is',\n 'so',\n 'maybe',\n 'stop',\n 'buying',\n 'worthless',\n ' to',\n 'mr',\n 'problems',\n 'love',\n 'my',\n 'steak',\n 'has',\n 'licks',\n 'to',\n 'stupid',\n 'dalmation',\n 'ate',\n ' my',\n 'dog',\n 'posting']"
      ]
     },
     "execution_count": 13,
     "metadata": {},
     "output_type": "execute_result"
    }
   ],
   "source": [
    "list_o_posts,list_classes = load_data_set()\n",
    "my_vocab_list = create_vocabulary_list(list_o_posts)\n",
    "my_vocab_list"
   ]
  },
  {
   "cell_type": "markdown",
   "metadata": {},
   "source": [
    "## 伪代码\n",
    "计算每个类别中的文档数目  \n",
    "（例如上边的posting_list和class_vector，每个类别中的文档数目都应该是3？）  \n",
    "\n",
    "1. 对每篇训练文档：  P(W0|类别1),P(W1|类别1),P(W2|类别1)...P(W|类别1)  \n",
    "1.1 对每个类别：  \n",
    "1.1.1 如果词条出现在文档中 -> 增加该词条的计数值  \n",
    "1.1.2 增加所有词条的计数值  \n",
    "1.2 对每个类别:  \n",
    "1.2.1 对每个词条:  \n",
    "1.2.1.1 将该词条的数目除以总词条数目得到条件概率  \n",
    "1.3 返回每个类别的条件概率"
   ]
  },
  {
   "cell_type": "code",
   "execution_count": 18,
   "metadata": {},
   "outputs": [],
   "source": [
    "def train_NB0(train_matrix:list, train_category):\n",
    "    \"\"\"\n",
    "\n",
    "    :param train_matrix:\n",
    "    :param train_category:\n",
    "    :return:\n",
    "    \"\"\"\n",
    "    # 训练文档的数目\n",
    "    num_train_docs = len(train_matrix)\n",
    "    num_words = len(train_matrix[0])\n",
    "\n",
    "    # 分类为\"侮辱性文档\"的概率: 分类为\"侮辱性文档\"的文档数目，除以训练文档的总数目\n",
    "    # train_category 为一维向量，只有0和1两种值，其中1代表侮辱性\n",
    "    p_abusive = sum(train_category)/float(num_train_docs)\n",
    "\n",
    "    # 初始化概率：\n",
    "    p0_num = np.zeros(num_words)\n",
    "    p1_num = np.zeros(num_words)\n",
    "\n",
    "    # 这两个是充当分母的？\n",
    "    p0_denom = 0.0\n",
    "    p1_denom = 0.0\n",
    "\n",
    "    for i in range(num_train_docs):\n",
    "        if train_category[i] == 1:  # 类别为\"侮辱\"\n",
    "            p1_num += train_matrix[i]\n",
    "            p1_denom += sum(train_matrix[i])    # 训练文档中在词汇表中存在的单词数目\n",
    "        else:\n",
    "            p0_num += train_matrix[i]\n",
    "            p0_denom += sum(train_matrix[i])    # 训练文档中在词汇表中存在的单词数目\n",
    "\n",
    "    p1_vector = p1_num/p1_denom # 需要转为对数\n",
    "\n",
    "    # 对每个元素做除法\n",
    "    p0_vector = p0_num/p0_denom # 需要转为对数\n",
    "\n",
    "    return p0_vector, p1_vector, p_abusive"
   ]
  },
  {
   "cell_type": "code",
   "execution_count": 20,
   "metadata": {},
   "outputs": [
    {
     "data": {
      "text/plain": [
       "list"
      ]
     },
     "execution_count": 20,
     "metadata": {},
     "output_type": "execute_result"
    }
   ],
   "source": [
    "# my_vocab_list\n",
    "train_mat = []\n",
    "for post_in_doc in list_o_posts:\n",
    "    train_mat.append(set_of_words_2_vector(my_vocab_list, post_in_doc))\n",
    "type(train_mat)"
   ]
  },
  {
   "cell_type": "code",
   "execution_count": 21,
   "metadata": {
    "collapsed": false
   },
   "outputs": [
    {
     "data": {
      "text/plain": [
       "[0, 1, 0, 1, 0, 1]"
      ]
     },
     "execution_count": 21,
     "metadata": {},
     "output_type": "execute_result"
    }
   ],
   "source": [
    "list_classes"
   ]
  },
  {
   "cell_type": "code",
   "execution_count": 22,
   "metadata": {},
   "outputs": [],
   "source": [
    "p0_v, p1_v, p_ab = train_NB0(train_mat, list_classes)"
   ]
  },
  {
   "cell_type": "markdown",
   "metadata": {},
   "source": [
    "任意文档属于侮辱性文档的概率："
   ]
  },
  {
   "cell_type": "code",
   "execution_count": 23,
   "metadata": {},
   "outputs": [
    {
     "data": {
      "text/plain": [
       "0.5"
      ]
     },
     "execution_count": 23,
     "metadata": {},
     "output_type": "execute_result"
    }
   ],
   "source": [
    "p_ab"
   ]
  },
  {
   "cell_type": "markdown",
   "metadata": {},
   "source": [
    "在非侮辱性文档类别下词汇表中单词的出现概率"
   ]
  },
  {
   "cell_type": "code",
   "execution_count": 24,
   "metadata": {},
   "outputs": [
    {
     "data": {
      "text/plain": [
       "array([ 0.        ,  0.        ,  0.        ,  0.        ,  0.04166667,\n        0.04166667,  0.04166667,  0.04166667,  0.        ,  0.04166667,\n        0.08333333,  0.        ,  0.04166667,  0.04166667,  0.04166667,\n        0.        ,  0.04166667,  0.        ,  0.        ,  0.04166667,\n        0.04166667,  0.04166667,  0.04166667,  0.08333333,  0.04166667,\n        0.04166667,  0.04166667,  0.        ,  0.        ,  0.04166667,\n        0.04166667,  0.04166667,  0.04166667,  0.        ])"
      ]
     },
     "execution_count": 24,
     "metadata": {},
     "output_type": "execute_result"
    }
   ],
   "source": [
    "p0_v"
   ]
  },
  {
   "cell_type": "markdown",
   "metadata": {},
   "source": [
    "在侮辱性文档类别下词汇表中单词的出现概率向量"
   ]
  },
  {
   "cell_type": "code",
   "execution_count": 25,
   "metadata": {},
   "outputs": [
    {
     "data": {
      "text/plain": [
       "array([ 0.05263158,  0.05263158,  0.05263158,  0.05263158,  0.        ,\n        0.        ,  0.        ,  0.        ,  0.05263158,  0.        ,\n        0.05263158,  0.05263158,  0.        ,  0.        ,  0.        ,\n        0.05263158,  0.05263158,  0.05263158,  0.10526316,  0.        ,\n        0.        ,  0.        ,  0.        ,  0.        ,  0.        ,\n        0.        ,  0.        ,  0.05263158,  0.15789474,  0.        ,\n        0.        ,  0.        ,  0.10526316,  0.05263158])"
      ]
     },
     "execution_count": 25,
     "metadata": {},
     "output_type": "execute_result"
    }
   ],
   "source": [
    "p1_v"
   ]
  },
  {
   "cell_type": "markdown",
   "metadata": {},
   "source": [
    "### 测试算法：根据现实情况修改分类器"
   ]
  },
  {
   "cell_type": "markdown",
   "metadata": {},
   "source": [
    "1. 计算p(w0|1)p(w1|1)p(w2|1)...如果其中一个概率值为0，那么所有乘积也为0，需降低这种影响\n",
    "2. 计算p(w0|1)p(w1|1)p(w2|1)...,由于大部分银子都非常小，所以这个乘积将会下溢出或者得不到正确的答案。一种解决办法是对乘积取自然数对数"
   ]
  },
  {
   "cell_type": "code",
   "execution_count": 27,
   "metadata": {},
   "outputs": [],
   "source": [
    "def train_NB1(train_matrix, train_category):\n",
    "    \"\"\"\n",
    "    train_NB0函数的改进\n",
    "    :param train_matrix:    训练文档矩阵（准确来说只是python原生二维数组）\n",
    "    :param train_category:  训练文档矩阵对应的分类（一维向量）\n",
    "    :return: (在非侮辱性文档类别下词汇表中单词的出现概率向量, 在侮辱性文档类别下词汇表中单词的出现概率向量, 任意文档属于侮辱性文档的概率)\n",
    "    \"\"\"\n",
    "    # 训练文档的数目\n",
    "    num_train_docs = len(train_matrix)\n",
    "    num_words = len(train_matrix[0])\n",
    "\n",
    "    # 分类为\"侮辱性文档\"的概率: 分类为\"侮辱性文档\"的文档数目，除以训练文档的总数目\n",
    "    # train_category 为一维向量，只有0和1两种值，其中1代表侮辱性\n",
    "    p_abusive = sum(train_category) / float(num_train_docs)\n",
    "\n",
    "    # 初始化概率：初始化为1而不是0\n",
    "    # p0_num: 对于分类0，词汇表中单词的出现次数\n",
    "    # p1_num: 对于分类1，词汇表中单词的出现次数\n",
    "    p0_num = np.ones(num_words)\n",
    "    p1_num = np.ones(num_words)\n",
    "\n",
    "    # 这两个是充当分母，\n",
    "    # TODO 为什么是2？为什么不是1或者其他数？\n",
    "    p0_denom = 2.0\n",
    "    p1_denom = 2.0\n",
    "\n",
    "    for i in range(num_train_docs):\n",
    "        if train_category[i] == 1:  # 类别为\"侮辱\"\n",
    "            p1_num += train_matrix[i]\n",
    "            p1_denom += sum(train_matrix[i])  # 训练文档中的单词同时也在词汇表中存在的数目\n",
    "        else:\n",
    "            p0_num += train_matrix[i]\n",
    "            p0_denom += sum(train_matrix[i])  # 训练文档中的单词同时也在词汇表中存在的数目\n",
    "\n",
    "    # 概率向量(转为对数)\n",
    "    # 分母是，对于分类1（侮辱性文档），一共出现过多少个单词（所有文档中）\n",
    "    # 分子是，对于分类1（侮辱性文档），词汇表中每个单词各自出现的次数（所有文档中）\n",
    "    # 相除后，得到一个对于分类1（侮辱性文档），词汇表中每个单词出现的概率\n",
    "    p1_vector = np.log(p1_num / p1_denom)\n",
    "\n",
    "    # 对每个元素做除法\n",
    "    p0_vector = np.log(p0_num / p0_denom)\n",
    "\n",
    "    return p0_vector, p1_vector, p_abusive"
   ]
  },
  {
   "cell_type": "code",
   "execution_count": null,
   "metadata": {},
   "outputs": [],
   "source": [
    "def classify_NB(vector_2_classify, p0_vector, p1_vector,p_class_1):\n",
    "    \"\"\"\n",
    "    \n",
    "    :param vector_2_classify:   要分类的向量 \n",
    "    :param p0_vector:           在非侮辱性文档类别下词汇表中单词的出现概率向量\n",
    "    :param p1_vector:           在侮辱性文档类别下词汇表中单词的出现概率向量\n",
    "    :param p_class_1:           任意文档属于侮辱性文档的概率\n",
    "    :return: \n",
    "    \"\"\"\n",
    "    p1 = sum(vector_2_classify * p1_vector) + np.log(p_class_1)\n",
    "    p0 = sum(vector_2_classify * p0_vector) + np.log(1.0 - p_class_1)\n",
    "    if p1 > p0:\n",
    "        return 1\n",
    "    else:\n",
    "        return 0"
   ]
  },
  {
   "cell_type": "markdown",
   "metadata": {},
   "source": [
    "## 朴素贝叶斯分类函数"
   ]
  },
  {
   "cell_type": "markdown",
   "metadata": {},
   "source": [
    "list_o_posts 训练集：文档列表  \n",
    "list_classes 训练集对应的分类"
   ]
  },
  {
   "cell_type": "code",
   "execution_count": 31,
   "metadata": {},
   "outputs": [
    {
     "data": {
      "text/plain": [
       "([[' my', 'dog', 'has', 'flea', 'problems', 'help', 'please'],\n  ['maybe', 'not', 'take', 'him', 'to', 'dog', 'park', 'stupid'],\n  ['my', 'dalmation', 'is', 'so', 'cute', 'I', 'love', 'him'],\n  ['stop', 'posting', 'stupid', 'worthless', 'garbage'],\n  ['mr', 'licks', 'ate', 'my', 'steak', 'how', ' to', 'stop', 'him'],\n  ['quit', 'buying', 'worthless', 'dog', 'food', 'stupid']],\n [0, 1, 0, 1, 0, 1])"
      ]
     },
     "execution_count": 31,
     "metadata": {},
     "output_type": "execute_result"
    }
   ],
   "source": [
    "list_o_posts, list_classes"
   ]
  },
  {
   "cell_type": "markdown",
   "metadata": {},
   "source": [
    "**my_vocab_list**：根据list_o_posts中训练集所有文档，抽取所有曾出现的单词，得出的词汇列表  \n",
    "\n",
    "**train_mat**：list_o_posts中训练集文档，原来是多组组由若干单词组成的向量，现在把它转换为若干组由(1,0)组成的向量，遍历my_vocab_list中的单词，如果该单词在文档中出现，则标记为1，没出现则标记为0"
   ]
  },
  {
   "cell_type": "code",
   "execution_count": 34,
   "metadata": {
    "collapsed": true
   },
   "outputs": [
    {
     "data": {
      "text/plain": [
       "(['garbage',\n  'take',\n  'not',\n  'park',\n  'cute',\n  'I',\n  'how',\n  'please',\n  'food',\n  'help',\n  'him',\n  'quit',\n  'flea',\n  'is',\n  'so',\n  'maybe',\n  'stop',\n  'buying',\n  'worthless',\n  ' to',\n  'mr',\n  'problems',\n  'love',\n  'my',\n  'steak',\n  'has',\n  'licks',\n  'to',\n  'stupid',\n  'dalmation',\n  'ate',\n  ' my',\n  'dog',\n  'posting'],\n [[0,\n   0,\n   0,\n   0,\n   0,\n   0,\n   0,\n   1,\n   0,\n   1,\n   0,\n   0,\n   1,\n   0,\n   0,\n   0,\n   0,\n   0,\n   0,\n   0,\n   0,\n   1,\n   0,\n   0,\n   0,\n   1,\n   0,\n   0,\n   0,\n   0,\n   0,\n   1,\n   1,\n   0],\n  [0,\n   1,\n   1,\n   1,\n   0,\n   0,\n   0,\n   0,\n   0,\n   0,\n   1,\n   0,\n   0,\n   0,\n   0,\n   1,\n   0,\n   0,\n   0,\n   0,\n   0,\n   0,\n   0,\n   0,\n   0,\n   0,\n   0,\n   1,\n   1,\n   0,\n   0,\n   0,\n   1,\n   0],\n  [0,\n   0,\n   0,\n   0,\n   1,\n   1,\n   0,\n   0,\n   0,\n   0,\n   1,\n   0,\n   0,\n   1,\n   1,\n   0,\n   0,\n   0,\n   0,\n   0,\n   0,\n   0,\n   1,\n   1,\n   0,\n   0,\n   0,\n   0,\n   0,\n   1,\n   0,\n   0,\n   0,\n   0],\n  [1,\n   0,\n   0,\n   0,\n   0,\n   0,\n   0,\n   0,\n   0,\n   0,\n   0,\n   0,\n   0,\n   0,\n   0,\n   0,\n   1,\n   0,\n   1,\n   0,\n   0,\n   0,\n   0,\n   0,\n   0,\n   0,\n   0,\n   0,\n   1,\n   0,\n   0,\n   0,\n   0,\n   1],\n  [0,\n   0,\n   0,\n   0,\n   0,\n   0,\n   1,\n   0,\n   0,\n   0,\n   1,\n   0,\n   0,\n   0,\n   0,\n   0,\n   1,\n   0,\n   0,\n   1,\n   1,\n   0,\n   0,\n   1,\n   1,\n   0,\n   1,\n   0,\n   0,\n   0,\n   1,\n   0,\n   0,\n   0],\n  [0,\n   0,\n   0,\n   0,\n   0,\n   0,\n   0,\n   0,\n   1,\n   0,\n   0,\n   1,\n   0,\n   0,\n   0,\n   0,\n   0,\n   1,\n   1,\n   0,\n   0,\n   0,\n   0,\n   0,\n   0,\n   0,\n   0,\n   0,\n   1,\n   0,\n   0,\n   0,\n   1,\n   0]])"
      ]
     },
     "execution_count": 34,
     "metadata": {},
     "output_type": "execute_result"
    }
   ],
   "source": [
    "my_vocab_list, train_mat"
   ]
  },
  {
   "cell_type": "markdown",
   "metadata": {},
   "source": [
    "train_mat，list_classes的类型为python原生的多维数组，现在把它们转换为numpy中array类型的变量：train_array，list_classes_array\n"
   ]
  },
  {
   "cell_type": "code",
   "execution_count": 37,
   "metadata": {},
   "outputs": [],
   "source": [
    "train_array = np.array(train_mat)\n",
    "list_classes_array = np.array(list_classes)"
   ]
  },
  {
   "cell_type": "markdown",
   "metadata": {},
   "source": [
    "**prob_0_vector**：训练集中类别为\"非侮辱性\"的文档中，词汇表中每个单词的出现概率（组成一个一维向量）  \n",
    "暂且理解为公式中的p(w|分类0)\n",
    "\n",
    "**prob_1_vector**：训练集中类别为\"侮辱性\"的文档中，词汇表中每个单词的出现概率（组成一个一维向量）  \n",
    "暂且理解为公式中的p(w|分类1)\n",
    "\n",
    "**prob_abusive**：训练集中类别为\"侮辱性\"文档的出现概率 \n"
   ]
  },
  {
   "cell_type": "code",
   "execution_count": 38,
   "metadata": {},
   "outputs": [],
   "source": [
    "prob_0_vector, prob_1_vector, prob_abusive = train_NB1(train_array, list_classes_array)\n"
   ]
  },
  {
   "cell_type": "code",
   "execution_count": 62,
   "metadata": {},
   "outputs": [],
   "source": [
    "# 测试集 文档列表\n",
    "test_entry = ['love', 'my', 'dalmation']\n",
    "# test_entry = ['stupid','garbage']\n",
    "# 转换测试集的格式，转化为词汇表中单词是否出现组成的向量\n",
    "test_mat = set_of_words_2_vector(my_vocab_list, test_entry)\n",
    "# 把转换后的测试集，再转为numpy中的array\n",
    "test_doc_array = np.array(test_mat)"
   ]
  },
  {
   "cell_type": "markdown",
   "metadata": {},
   "source": [
    "计算测试集（只有1条数据）的概率\n",
    "\n",
    "**这公式tmd怎么来的？！**"
   ]
  },
  {
   "cell_type": "code",
   "execution_count": 63,
   "metadata": {},
   "outputs": [],
   "source": [
    "# 测试集的那条数据，类别可能为\"侮辱性\"的概率\n",
    "test_prob_1 = sum(test_doc_array * prob_1_vector) + np.log(prob_abusive)\n",
    "\n",
    "# 测试集的那条数据，类别可能为\"非侮辱性\"的概率\n",
    "test_prob_0 = sum(test_doc_array * prob_0_vector) + np.log(1.0 - prob_abusive)\n"
   ]
  },
  {
   "cell_type": "code",
   "execution_count": 64,
   "metadata": {},
   "outputs": [
    {
     "data": {
      "text/plain": [
       "(-9.8267144937302149, -7.9825301448363906)"
      ]
     },
     "execution_count": 64,
     "metadata": {},
     "output_type": "execute_result"
    }
   ],
   "source": [
    "test_prob_1, test_prob_0"
   ]
  },
  {
   "cell_type": "markdown",
   "metadata": {},
   "source": [
    "## 上边的都是词集模型，现在进化一下，改为词袋模型"
   ]
  },
  {
   "cell_type": "code",
   "execution_count": null,
   "metadata": {},
   "outputs": [],
   "source": [
    "def bag_of_words_2_vector(vocabulary_list, input_set):\n",
    "    \"\"\"\n",
    "    \n",
    "    :param vocabulary_list:     词汇的列表\n",
    "    :param input_set:           某个文档\n",
    "    :return:                    文档向量，向量的每一个元素整数，表示单词出现次数\n",
    "    \"\"\"\n",
    "    # 创建一个其中所含元素都为0的向量\n",
    "    return_vector = [0]*len(vocabulary_list)\n",
    "    for word in input_set:\n",
    "        if word in vocabulary_list:\n",
    "            return_vector[vocabulary_list.index(word)] += 1\n",
    "        else:\n",
    "            print('单词：%s 不在词汇表中！' %word)\n",
    "    return return_vector"
   ]
  },
  {
   "cell_type": "markdown",
   "metadata": {},
   "source": [
    "## 乱写乱画  \n",
    "\n",
    "最终目的：求p(分类1|w),p(分类2|w)  \n",
    "\n",
    "由贝叶斯公式可知：  \n",
    "【向量为w 与 分类为1 同时发生的概率】 = p(w)\\*p(分类1) = p(w)\\*p(分类1|w) = p(w|分类1) \\* p(分类1)  \n",
    "\n",
    "因此p(分类1|w) = p(w|分类1) \\* p(分类1) / p(w)  \n",
    "\n",
    "而因为w是由w0,w1,w2,w3....组成的一组向量，由此可得  \n",
    "p(w) = p(w0) \\* p(w1) \\* p(w2) \\* p(w3) ...  \n",
    "p(w|分类1) = p(w0|分类1) \\* p(w1|分类1) \\* p(w2|分类1) \\* p(w3|分类1) ...\n"
   ]
  },
  {
   "cell_type": "code",
   "execution_count": 61,
   "metadata": {},
   "outputs": [
    {
     "data": {
      "image/png": "[encoded data removed]",
      "text/plain": [
       "<matplotlib.figure.Figure at 0x106b44780>"
      ]
     },
     "metadata": {},
     "output_type": "display_data"
    }
   ],
   "source": [
    "import matplotlib.pyplot as plt\n",
    "plt.figure()\n",
    "plt.plot\n",
    "\n",
    "x_ = np.linspace(0.01, 1, 10000)\n",
    "y_ = np.log(x_)\n",
    "\n",
    "plt.plot(x_,y_)\n",
    "plt.show()"
   ]
  },
  {
   "cell_type": "code",
   "execution_count": null,
   "metadata": {},
   "outputs": [],
   "source": []
  }
 ],
 "metadata": {
  "kernelspec": {
   "display_name": "Python 2",
   "language": "python",
   "name": "python2"
  },
  "language_info": {
   "codemirror_mode": {
    "name": "ipython",
    "version": 2
   },
   "file_extension": ".py",
   "mimetype": "text/x-python",
   "name": "python",
   "nbconvert_exporter": "python",
   "pygments_lexer": "ipython2",
   "version": "2.7.6"
  }
 },
 "nbformat": 4,
 "nbformat_minor": 0
}
