{
 "cells": [
  {
   "cell_type": "code",
   "execution_count": 1,
   "metadata": {
    "collapsed": true
   },
   "outputs": [],
   "source": [
    "import numpy as np"
   ]
  },
  {
   "cell_type": "code",
   "execution_count": 2,
   "metadata": {},
   "outputs": [
    {
     "data": {
      "text/plain": [
       "array([[ 0.50790049,  0.21470588,  0.80301708,  0.07360804],\n       [ 0.43182126,  0.79981498,  0.27304347,  0.70573063],\n       [ 0.50169313,  0.00832502,  0.68778508,  0.45543259],\n       [ 0.21928724,  0.0117709 ,  0.26365121,  0.15226263]])"
      ]
     },
     "execution_count": 2,
     "metadata": {},
     "output_type": "execute_result"
    }
   ],
   "source": [
    "np.random.rand(4,4)"
   ]
  },
  {
   "cell_type": "code",
   "execution_count": 3,
   "metadata": {},
   "outputs": [
    {
     "data": {
      "text/plain": [
       "matrix([[  3.81571693e+00,  -2.66546089e+00,  -5.40887558e-01,\n          -1.05851111e-02],\n        [  1.87875064e+01,  -2.07910506e+01,  -4.49538766e-01,\n           6.89934053e+00],\n        [ -4.10965000e+00,   4.11496465e+00,  -9.41428041e-02,\n           3.31629512e-02],\n        [ -2.73853775e+01,   2.99930375e+01,   2.47576914e+00,\n          -1.03023829e+01]])"
      ]
     },
     "execution_count": 3,
     "metadata": {},
     "output_type": "execute_result"
    }
   ],
   "source": [
    "randMat = np.mat(np.random.rand(4,4))\n",
    "randMat.I"
   ]
  },
  {
   "cell_type": "code",
   "execution_count": 4,
   "metadata": {},
   "outputs": [
    {
     "data": {
      "text/plain": [
       "matrix([[  1.00000000e+00,  -1.77635684e-15,   0.00000000e+00,\n           0.00000000e+00],\n        [  0.00000000e+00,   1.00000000e+00,   0.00000000e+00,\n           0.00000000e+00],\n        [  0.00000000e+00,   0.00000000e+00,   1.00000000e+00,\n          -8.88178420e-16],\n        [  0.00000000e+00,   0.00000000e+00,   5.55111512e-17,\n           1.00000000e+00]])"
      ]
     },
     "execution_count": 4,
     "metadata": {},
     "output_type": "execute_result"
    }
   ],
   "source": [
    "invRandMat = randMat.I\n",
    "randMat * invRandMat"
   ]
  },
  {
   "cell_type": "code",
   "execution_count": 5,
   "metadata": {},
   "outputs": [
    {
     "data": {
      "text/plain": [
       "matrix([[  1.77635684e-15,  -1.77635684e-15,   0.00000000e+00,\n           0.00000000e+00],\n        [  0.00000000e+00,   0.00000000e+00,   0.00000000e+00,\n           0.00000000e+00],\n        [  0.00000000e+00,   0.00000000e+00,   0.00000000e+00,\n          -8.88178420e-16],\n        [  0.00000000e+00,   0.00000000e+00,   5.55111512e-17,\n           0.00000000e+00]])"
      ]
     },
     "execution_count": 5,
     "metadata": {},
     "output_type": "execute_result"
    }
   ],
   "source": [
    "myEye = randMat*invRandMat\n",
    "myEye - np.eye(4)"
   ]
  },
  {
   "cell_type": "code",
   "execution_count": null,
   "metadata": {},
   "outputs": [],
   "source": [
    ""
   ]
  }
 ],
 "metadata": {
  "kernelspec": {
   "display_name": "Python 2",
   "language": "python",
   "name": "python2"
  },
  "language_info": {
   "codemirror_mode": {
    "name": "ipython",
    "version": 2
   },
   "file_extension": ".py",
   "mimetype": "text/x-python",
   "name": "python",
   "nbconvert_exporter": "python",
   "pygments_lexer": "ipython2",
   "version": "2.7.6"
  }
 },
 "nbformat": 4,
 "nbformat_minor": 0
}
