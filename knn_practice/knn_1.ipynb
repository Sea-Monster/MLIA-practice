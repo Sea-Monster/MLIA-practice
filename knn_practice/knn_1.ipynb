{
 "cells": [
  {
   "cell_type": "code",
   "execution_count": 25,
   "metadata": {
    "collapsed": true
   },
   "outputs": [],
   "source": [
    "import numpy as np\n",
    "import operator"
   ]
  },
  {
   "cell_type": "code",
   "execution_count": 4,
   "metadata": {},
   "outputs": [],
   "source": [
    "group = np.array([[1.0, 1.1], [1.0, 1.0], [0,0], [0, 0.1]])\n",
    "labels = ['A','A','B','B']\n",
    "\n"
   ]
  },
  {
   "cell_type": "code",
   "execution_count": 5,
   "metadata": {},
   "outputs": [],
   "source": [
    "inX = [0, 0]\n",
    "dataSet = group\n",
    "k = 3"
   ]
  },
  {
   "cell_type": "code",
   "execution_count": 8,
   "metadata": {},
   "outputs": [
    {
     "data": {
      "text/plain": [
       "4"
      ]
     },
     "execution_count": 8,
     "metadata": {},
     "output_type": "execute_result"
    }
   ],
   "source": [
    "# 训练样本数目\n",
    "dataSet.shape[0]"
   ]
  },
  {
   "cell_type": "code",
   "execution_count": 10,
   "metadata": {},
   "outputs": [
    {
     "data": {
      "text/plain": [
       "array([[0, 0],\n       [0, 0],\n       [0, 0],\n       [0, 0]])"
      ]
     },
     "execution_count": 10,
     "metadata": {},
     "output_type": "execute_result"
    }
   ],
   "source": [
    "dataSetSize = dataSet.shape[0]\n",
    "np.tile(inX, (dataSetSize, 1)) "
   ]
  },
  {
   "cell_type": "code",
   "execution_count": 11,
   "metadata": {},
   "outputs": [
    {
     "data": {
      "text/plain": [
       "array([[-1. , -1.1],\n       [-1. , -1. ],\n       [ 0. ,  0. ],\n       [ 0. , -0.1]])"
      ]
     },
     "execution_count": 11,
     "metadata": {},
     "output_type": "execute_result"
    }
   ],
   "source": [
    "# 最终要预测的向量只有1组，但训练样本数有4组，所以把预测的向量复制为4组，然后就是矩阵减法\n",
    "# 计算每一组中的距离\n",
    "diffMat = np.tile(inX, (dataSetSize, 1)) - dataSet\n",
    "diffMat"
   ]
  },
  {
   "cell_type": "code",
   "execution_count": 12,
   "metadata": {},
   "outputs": [
    {
     "data": {
      "text/plain": [
       "array([[ 1.  ,  1.21],\n       [ 1.  ,  1.  ],\n       [ 0.  ,  0.  ],\n       [ 0.  ,  0.01]])"
      ]
     },
     "execution_count": 12,
     "metadata": {},
     "output_type": "execute_result"
    }
   ],
   "source": [
    "sqDiffMat = diffMat ** 2\n",
    "sqDiffMat"
   ]
  },
  {
   "cell_type": "code",
   "execution_count": 17,
   "metadata": {},
   "outputs": [
    {
     "data": {
      "text/plain": [
       "4.2199999999999998"
      ]
     },
     "execution_count": 17,
     "metadata": {},
     "output_type": "execute_result"
    }
   ],
   "source": [
    "# 不设定axis参数，就是矩阵内所有元素简单相加\n",
    "sqDiffMat.sum()"
   ]
  },
  {
   "cell_type": "code",
   "execution_count": 19,
   "metadata": {},
   "outputs": [
    {
     "data": {
      "text/plain": [
       "array([ 1.48660687,  1.41421356,  0.        ,  0.1       ])"
      ]
     },
     "execution_count": 19,
     "metadata": {},
     "output_type": "execute_result"
    }
   ],
   "source": [
    "# axis参数不可以大于等于ndim数（维度数），这里不可以大于等于2\n",
    "sqDistances = sqDiffMat.sum(axis=1)\n",
    "# 计算两个向量点之间的欧氏距离\n",
    "distances = sqDistances ** 0.5\n",
    "distances"
   ]
  },
  {
   "cell_type": "code",
   "execution_count": 21,
   "metadata": {},
   "outputs": [
    {
     "data": {
      "text/plain": [
       "array([2, 3, 1, 0])"
      ]
     },
     "execution_count": 21,
     "metadata": {},
     "output_type": "execute_result"
    }
   ],
   "source": [
    "# 把数组从小到大排列（返回的是元素中的索引号/序列号）\n",
    "# 0：1.48660687\n",
    "# 1：1.41421356\n",
    "# 2：0\n",
    "# 3：0.1\n",
    "# 所以结果是[2,3,1,0]\n",
    "sortedDistIndicies = distances.argsort()\n",
    "sortedDistIndicies"
   ]
  },
  {
   "cell_type": "code",
   "execution_count": 22,
   "metadata": {},
   "outputs": [
    {
     "data": {
      "text/plain": [
       "{'A': 1, 'B': 2}"
      ]
     },
     "execution_count": 22,
     "metadata": {},
     "output_type": "execute_result"
    }
   ],
   "source": [
    "classCount = {}\n",
    "\n",
    "# 选择距离最小的k个点，确定这些元素所在的主要分类：\n",
    "# classCount字典，key就是分类，value就是出现此分类的次数\n",
    "for i in range(k):\n",
    "    voteIlabel = labels[sortedDistIndicies[i]]\n",
    "    classCount[voteIlabel] = classCount.get(voteIlabel, 0) + 1\n",
    "classCount"
   ]
  },
  {
   "cell_type": "code",
   "execution_count": 29,
   "metadata": {},
   "outputs": [
    {
     "data": {
      "text/plain": [
       "dict_items([('B', 2), ('A', 1)])"
      ]
     },
     "execution_count": 29,
     "metadata": {},
     "output_type": "execute_result"
    }
   ],
   "source": [
    "items = classCount.items()\n",
    "items"
   ]
  },
  {
   "cell_type": "code",
   "execution_count": 26,
   "metadata": {},
   "outputs": [
    {
     "data": {
      "text/plain": [
       "[('B', 2), ('A', 1)]"
      ]
     },
     "execution_count": 26,
     "metadata": {},
     "output_type": "execute_result"
    }
   ],
   "source": [
    "# 排序\n",
    "# 将classCount字典分解为元组列表，然后使用itemgetter方法，按照第二个元素的次序（？）对元组进行排序\n",
    "# 此处的排序为逆序，即按照从最大到最小次序排序，最后返回发生频率最高的元素标签\n",
    "sortedClassCount = sorted(items,\n",
    "                   key=operator.itemgetter(1), reverse=True)\n",
    "sortedClassCount\n"
   ]
  },
  {
   "cell_type": "code",
   "execution_count": 27,
   "metadata": {},
   "outputs": [
    {
     "data": {
      "text/plain": [
       "('B', 2)"
      ]
     },
     "execution_count": 27,
     "metadata": {},
     "output_type": "execute_result"
    }
   ],
   "source": [
    "sortedClassCount[0]"
   ]
  },
  {
   "cell_type": "code",
   "execution_count": 28,
   "metadata": {},
   "outputs": [
    {
     "data": {
      "text/plain": [
       "'B'"
      ]
     },
     "execution_count": 28,
     "metadata": {},
     "output_type": "execute_result"
    }
   ],
   "source": [
    "# 这个就是最终结果\n",
    "sortedClassCount[0][0]"
   ]
  },
  {
   "cell_type": "code",
   "execution_count": null,
   "metadata": {},
   "outputs": [],
   "source": []
  }
 ],
 "metadata": {
  "kernelspec": {
   "display_name": "Python 2",
   "language": "python",
   "name": "python2"
  },
  "language_info": {
   "codemirror_mode": {
    "name": "ipython",
    "version": 2
   },
   "file_extension": ".py",
   "mimetype": "text/x-python",
   "name": "python",
   "nbconvert_exporter": "python",
   "pygments_lexer": "ipython2",
   "version": "2.7.6"
  }
 },
 "nbformat": 4,
 "nbformat_minor": 0
}
