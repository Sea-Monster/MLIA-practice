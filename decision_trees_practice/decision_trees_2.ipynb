{
 "cells": [
  {
   "cell_type": "markdown",
   "metadata": {
    "collapsed": true
   },
   "source": [
    "# 决策树  \n",
    "## 使用决策树预测隐形眼镜类型  \n",
    "1. 收集数据：提供的文本文件\n",
    "2. 准备数据：解析tab键分隔的数据行\n",
    "3. 分析数据：快速检查数据，确保正确的解析数据内容，绘制最终的树形图\n",
    "4. 训练算法：使用之前的create_tree（）函数\n",
    "5. 测试算法：编写测试函数验证决策树可以正确分类给定的数据实例\n",
    "6. 使用算法：存储树的数据结构，以便下次使用时无序重新构造树"
   ]
  },
  {
   "cell_type": "code",
   "execution_count": 3,
   "metadata": {},
   "outputs": [],
   "source": [
    "from decision_trees_practice.trees import create_tree\n",
    "import os"
   ]
  },
  {
   "cell_type": "code",
   "execution_count": 5,
   "metadata": {},
   "outputs": [],
   "source": [
    "project_path = os.getcwd()\n",
    "filename = os.path.join(project_path,'decision_trees_practice','lenses.txt')\n",
    "\n",
    "labels = ['age','prescript','astigmaic','tearRate','what?']"
   ]
  },
  {
   "cell_type": "code",
   "execution_count": null,
   "metadata": {},
   "outputs": [],
   "source": [
    "fr = open(filename,'r')\n"
   ]
  }
 ],
 "metadata": {
  "kernelspec": {
   "display_name": "Python 2",
   "language": "python",
   "name": "python2"
  },
  "language_info": {
   "codemirror_mode": {
    "name": "ipython",
    "version": 2
   },
   "file_extension": ".py",
   "mimetype": "text/x-python",
   "name": "python",
   "nbconvert_exporter": "python",
   "pygments_lexer": "ipython2",
   "version": "2.7.6"
  }
 },
 "nbformat": 4,
 "nbformat_minor": 0
}
